{
 "cells": [
  {
   "cell_type": "code",
   "execution_count": 81,
   "id": "6ca2d1a1",
   "metadata": {},
   "outputs": [],
   "source": [
    "import torch\n",
    "import torch.nn as nn\n",
    "import torch.optim as optim\n",
    "from torch.utils.data import Dataset, DataLoader\n",
    "from sklearn.model_selection import train_test_split\n",
    "from sklearn.preprocessing import StandardScaler\n",
    "import pandas as pd\n",
    "import numpy as np\n",
    "import os"
   ]
  },
  {
   "cell_type": "code",
   "execution_count": 39,
   "id": "4e13d2f9",
   "metadata": {},
   "outputs": [
    {
     "name": "stdout",
     "output_type": "stream",
     "text": [
      "      AT      V       AP     RH      PE\n",
      "0  14.96  41.76  1024.07  73.17  463.26\n",
      "1  25.18  62.96  1020.04  59.08  444.37\n",
      "2   5.11  39.40  1012.16  92.14  488.56\n",
      "3  20.86  57.32  1010.24  76.64  446.48\n",
      "4  10.82  37.50  1009.23  96.62  473.90\n",
      "5  26.27  59.44  1012.23  58.77  443.67\n",
      "6  15.89  43.96  1014.02  75.24  467.35\n",
      "7   9.48  44.71  1019.12  66.43  478.42\n",
      "8  14.64  45.00  1021.78  41.25  475.98\n",
      "9  11.74  43.56  1015.14  70.72  477.50\n",
      "                AT            V           AP           RH           PE\n",
      "count  9568.000000  9568.000000  9568.000000  9568.000000  9568.000000\n",
      "mean     19.651231    54.305804  1013.259078    73.308978   454.365009\n",
      "std       7.452473    12.707893     5.938784    14.600269    17.066995\n",
      "min       1.810000    25.360000   992.890000    25.560000   420.260000\n",
      "25%      13.510000    41.740000  1009.100000    63.327500   439.750000\n",
      "50%      20.345000    52.080000  1012.940000    74.975000   451.550000\n",
      "75%      25.720000    66.540000  1017.260000    84.830000   468.430000\n",
      "max      37.110000    81.560000  1033.300000   100.160000   495.760000\n"
     ]
    }
   ],
   "source": [
    "pandasDataFrame = pd.read_excel(\"C:\\\\Users\\\\jasmi\\\\OneDrive\\\\Desktop\\\\Combined cycle power plant.xlsx\")\n",
    "print(pandasDataFrame.describe())"
   ]
  },
  {
   "cell_type": "markdown",
   "id": "c8ca27d5",
   "metadata": {},
   "source": [
    "#### Convert pandas DataFrame to numpy array"
   ]
  },
  {
   "cell_type": "code",
   "execution_count": 41,
   "id": "286f4a90",
   "metadata": {},
   "outputs": [
    {
     "name": "stdout",
     "output_type": "stream",
     "text": [
      "(9568, 5)\n"
     ]
    }
   ],
   "source": [
    "numpyArray = pandasDataFrame.to_numpy()\n",
    "print(numpyArray.shape)"
   ]
  },
  {
   "cell_type": "markdown",
   "id": "fc8287e2",
   "metadata": {},
   "source": [
    "#### Create input and output"
   ]
  },
  {
   "cell_type": "code",
   "execution_count": 50,
   "id": "0d06c129",
   "metadata": {},
   "outputs": [],
   "source": [
    "inputArray = numpyArray[:, :4]\n",
    "outputArray = numpyArray[:, 4:5]"
   ]
  },
  {
   "cell_type": "markdown",
   "id": "a943dbaf",
   "metadata": {},
   "source": [
    "#### Split the dataset into training and testing sets"
   ]
  },
  {
   "cell_type": "code",
   "execution_count": 36,
   "id": "09081b5c",
   "metadata": {},
   "outputs": [],
   "source": [
    "X_train, X_test, y_train, y_test = train_test_split(inputArray, outputArray, test_size=0.2, random_state=42)"
   ]
  },
  {
   "cell_type": "markdown",
   "id": "57691dec",
   "metadata": {},
   "source": [
    "#### Standardize the features"
   ]
  },
  {
   "cell_type": "code",
   "execution_count": 52,
   "id": "6346fdab",
   "metadata": {},
   "outputs": [],
   "source": [
    "scaler_x = StandardScaler()\n",
    "X_train = scaler_x.fit_transform(X_train)\n",
    "X_test = scaler_x.transform(X_test)"
   ]
  },
  {
   "cell_type": "markdown",
   "id": "ad627103",
   "metadata": {},
   "source": [
    "#### Standardize the targets"
   ]
  },
  {
   "cell_type": "code",
   "execution_count": 7,
   "id": "149c8dfd",
   "metadata": {},
   "outputs": [],
   "source": [
    "scaler_y = StandardScaler()\n",
    "y_train = scaler_y.fit_transform(y_train)\n",
    "y_test = scaler_y.transform(y_test)"
   ]
  },
  {
   "cell_type": "markdown",
   "id": "4defb8c7",
   "metadata": {},
   "source": [
    "#### Define the dataset class (the purpose of the class is to convert datasets into tensors, and define len and getitem functions)"
   ]
  },
  {
   "cell_type": "code",
   "execution_count": 72,
   "id": "d5678a3c",
   "metadata": {},
   "outputs": [],
   "source": [
    "class PowerPredictionDataset(Dataset):\n",
    "    def __init__(self, features, targets):\n",
    "        self.features = torch.tensor(features, dtype=torch.float32)\n",
    "        self.targets = torch.tensor(targets, dtype=torch.float32)\n",
    "        \n",
    "    def __len__(self):\n",
    "        return len(self.features)\n",
    "    \n",
    "    def __getitem__(self, idx):\n",
    "        return self.features[idx], self.targets[idx]"
   ]
  },
  {
   "cell_type": "markdown",
   "id": "ca8e0be9",
   "metadata": {},
   "source": [
    "#### Create DataLoader instances"
   ]
  },
  {
   "cell_type": "code",
   "execution_count": 73,
   "id": "a852251b",
   "metadata": {},
   "outputs": [],
   "source": [
    "train_dataset = PowerPredictionDataset(X_train, y_train)\n",
    "test_dataset = PowerPredictionDataset(X_test, y_test)\n",
    "\n",
    "train_loader = DataLoader(train_dataset, batch_size=64, shuffle=True)\n",
    "test_loader = DataLoader(test_dataset, batch_size=64, shuffle=False)"
   ]
  },
  {
   "cell_type": "markdown",
   "id": "e35ca475",
   "metadata": {},
   "source": [
    "#### Define neural network model"
   ]
  },
  {
   "cell_type": "code",
   "execution_count": 74,
   "id": "b8a07a74",
   "metadata": {},
   "outputs": [],
   "source": [
    "class PowerPredictionModel(nn.Module):\n",
    "    def __init__(self, input_size, hidden_size):\n",
    "        super(PowerPredictionModel, self).__init__()\n",
    "        self.fc1 = nn.Linear(input_size, hidden_size)       \n",
    "        self.fc2 = nn.Linear(hidden_size, 1)              \n",
    "        \n",
    "        \n",
    "    def forward(self, input_tensor):\n",
    "        hidden_layer_output = torch.nn.functional.relu(self.fc1(input_tensor))\n",
    "        final_layer_ouput = self.fc2(hidden_layer_output)\n",
    "        return final_layer_ouput\n",
    "    "
   ]
  },
  {
   "cell_type": "markdown",
   "id": "30c2819c",
   "metadata": {},
   "source": [
    "#### Instantiate the model, loss function, and optimizer"
   ]
  },
  {
   "cell_type": "code",
   "execution_count": 75,
   "id": "3caf4e1b",
   "metadata": {},
   "outputs": [],
   "source": [
    "input_size = X_train.shape[1]\n",
    "model = PowerPredictionModel(input_size, 5)\n",
    "criterion = nn.MSELoss()\n",
    "optimizer = optim.Adam(model.parameters(), lr=0.01)"
   ]
  },
  {
   "cell_type": "markdown",
   "id": "5fbb5f47",
   "metadata": {},
   "source": [
    "#### Create training loop"
   ]
  },
  {
   "cell_type": "code",
   "execution_count": 78,
   "id": "648fdd47",
   "metadata": {},
   "outputs": [
    {
     "name": "stdout",
     "output_type": "stream",
     "text": [
      "Epoch: 0  => => => => => => =>  Loss: 440.8221073150635\n",
      "Epoch: 1  => => => => => => =>  Loss: 345.6162550608317\n",
      "Epoch: 2  => => => => => => =>  Loss: 266.50255692799885\n",
      "Epoch: 3  => => => => => => =>  Loss: 200.62731329600015\n",
      "Epoch: 4  => => => => => => =>  Loss: 147.48871901830037\n",
      "Epoch: 5  => => => => => => =>  Loss: 106.69346625010172\n",
      "Epoch: 6  => => => => => => =>  Loss: 77.69152844746908\n",
      "Epoch: 7  => => => => => => =>  Loss: 57.730156342188515\n",
      "Epoch: 8  => => => => => => =>  Loss: 44.646056747436525\n",
      "Epoch: 9  => => => => => => =>  Loss: 36.34996116956075\n",
      "Epoch: 10  => => => => => => =>  Loss: 31.022942217191062\n",
      "Epoch: 11  => => => => => => =>  Loss: 27.398744050661723\n",
      "Epoch: 12  => => => => => => =>  Loss: 25.178469530741374\n",
      "Epoch: 13  => => => => => => =>  Loss: 23.74189244111379\n",
      "Epoch: 14  => => => => => => =>  Loss: 22.639245986938477\n",
      "Epoch: 15  => => => => => => =>  Loss: 22.078489581743877\n",
      "Epoch: 16  => => => => => => =>  Loss: 21.570253245035808\n",
      "Epoch: 17  => => => => => => =>  Loss: 21.445577883720397\n",
      "Epoch: 18  => => => => => => =>  Loss: 21.057458194096885\n",
      "Epoch: 19  => => => => => => =>  Loss: 20.938294768333435\n"
     ]
    }
   ],
   "source": [
    "number_epochs = 20\n",
    "\n",
    "for epoch in range(number_epochs):\n",
    "    model.train()\n",
    "    epoch_loss = 0.0\n",
    "    for inputs, targets in train_loader:\n",
    "        optimizer.zero_grad()\n",
    "        outputs = model(inputs)\n",
    "        loss = criterion(outputs, targets)\n",
    "        loss.backward()\n",
    "        optimizer.step()\n",
    "        \n",
    "        epoch_loss += loss.item()\n",
    "\n",
    "    average_epoch_loss = epoch_loss / len(train_loader)    \n",
    "    print(f\"Epoch: {epoch}  => => => => => => =>  Loss: {average_epoch_loss}\")"
   ]
  },
  {
   "cell_type": "markdown",
   "id": "065c7798",
   "metadata": {},
   "source": [
    "####  Evaluate the model on the rest set"
   ]
  },
  {
   "cell_type": "code",
   "execution_count": 80,
   "id": "0783a904",
   "metadata": {},
   "outputs": [
    {
     "name": "stdout",
     "output_type": "stream",
     "text": [
      "Average test loss:  20.492122840881347\n"
     ]
    }
   ],
   "source": [
    "model.eval()\n",
    "with torch.no_grad():\n",
    "    test_loss = 0.0\n",
    "    for inputs, targets in test_loader:\n",
    "        outputs = model(inputs)\n",
    "        test_loss += criterion(outputs, targets).item()\n",
    "        \n",
    "    average_test_loss = test_loss / len(test_loader)\n",
    "    print(f\"Average test loss:  {average_test_loss}\")"
   ]
  },
  {
   "cell_type": "code",
   "execution_count": 82,
   "id": "952ac322",
   "metadata": {},
   "outputs": [
    {
     "name": "stdout",
     "output_type": "stream",
     "text": [
      "Notebook Path: C:\\Users\\jasmi\\Python_312_projekti\n"
     ]
    }
   ],
   "source": [
    "notebook_path = os.getcwd()\n",
    "print(\"Notebook Path:\", notebook_path)"
   ]
  }
 ],
 "metadata": {
  "kernelspec": {
   "display_name": "Python 3 (ipykernel)",
   "language": "python",
   "name": "python3"
  },
  "language_info": {
   "codemirror_mode": {
    "name": "ipython",
    "version": 3
   },
   "file_extension": ".py",
   "mimetype": "text/x-python",
   "name": "python",
   "nbconvert_exporter": "python",
   "pygments_lexer": "ipython3",
   "version": "3.11.5"
  }
 },
 "nbformat": 4,
 "nbformat_minor": 5
}
